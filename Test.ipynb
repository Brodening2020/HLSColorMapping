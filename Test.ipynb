{
 "cells": [
  {
   "cell_type": "code",
   "execution_count": 1,
   "metadata": {},
   "outputs": [
    {
     "name": "stdout",
     "output_type": "stream",
     "text": [
      "(100, 3)\n",
      "(5, 8, 4) 6 9 5\n"
     ]
    }
   ],
   "source": [
    "import numpy as np\n",
    "rng = np.random.default_rng()\n",
    "r = rng.normal(size=(100,3))\n",
    "print(r.shape)\n",
    "H, edges = np.histogramdd(r, bins = (5, 8, 4))\n",
    "print(H.shape, edges[0].size, edges[1].size, edges[2].size)"
   ]
  },
  {
   "cell_type": "code",
   "execution_count": 7,
   "metadata": {},
   "outputs": [
    {
     "name": "stdout",
     "output_type": "stream",
     "text": [
      "ヒストグラム:  [[[  0.   3.   4.   0.]\n",
      "  [  2.  14.  22.   6.]\n",
      "  [  2.   9.  21.   2.]\n",
      "  [  1.   0.   3.   0.]]\n",
      "\n",
      " [[  1.  11.  22.   6.]\n",
      "  [ 14.  74. 110.  27.]\n",
      "  [  8.  84. 102.  27.]\n",
      "  [  6.  21.  20.   2.]]\n",
      "\n",
      " [[  2.  12.   9.   3.]\n",
      "  [  8.  66.  69.  23.]\n",
      "  [  3.  48.  71.  11.]\n",
      "  [  0.   6.  14.   3.]]\n",
      "\n",
      " [[  0.   2.   1.   1.]\n",
      "  [  0.   2.   6.   0.]\n",
      "  [  1.   4.   6.   2.]\n",
      "  [  0.   1.   2.   0.]]]\n",
      "ビンのエッジ:  [array([-3.06563261, -1.39572857,  0.27417548,  1.94407952,  3.61398356]), array([-2.87473824, -1.42894535,  0.01684755,  1.46264044,  2.90843334]), array([-3.09078972, -1.68397247, -0.27715522,  1.12966202,  2.53647927])]\n",
      "(3, 5)\n",
      "[-2.23068059 -0.56077654  1.1091275   2.77903154]\n"
     ]
    }
   ],
   "source": [
    "import numpy as np\n",
    "\n",
    "data = np.random.randn(1000, 3)\n",
    "\n",
    "hist, bin_edges = np.histogramdd(data, bins=[4, 4, 4])\n",
    "\n",
    "print(\"ヒストグラム: \", hist)\n",
    "print(\"ビンのエッジ: \", bin_edges)\n",
    "b=np.array(bin_edges)\n",
    "print(b.shape)\n",
    "c=(b[0][1:] + b[0][:-1])/2\n",
    "print(c)"
   ]
  },
  {
   "cell_type": "code",
   "execution_count": 30,
   "metadata": {},
   "outputs": [
    {
     "name": "stdout",
     "output_type": "stream",
     "text": [
      "[2 3] [1 2]\n",
      "3\n",
      "[array([1.5, 2.5])]\n",
      "[[1 2 3]\n",
      " [4 5 6]]\n",
      "[[[1 2 3]\n",
      "  [4 5 6]]]\n",
      "<class 'numpy.ndarray'>\n"
     ]
    }
   ],
   "source": [
    "import numpy as np\n",
    "b=np.array([1, 2, 3])\n",
    "#b[1]とb[0]の平均、b[2]とb[1]の平均...と計算する\n",
    "c=[(b[1:] + b[:-1])/2]\n",
    "#b[-1]は末尾の要素を取るがb[:-1]は末尾から2番目までをとる\n",
    "print(b[1:], b[:-1])\n",
    "print(b[-1])\n",
    "print(c)\n",
    "\n",
    "#ndarrayにe[None]とすることで外側の[]を一つ増やせる\n",
    "e=np.array([[1, 2, 3], [4, 5, 6]])\n",
    "print(e)\n",
    "d=e[None].astype(np.uint8)\n",
    "print(d)\n",
    "print(type(d))"
   ]
  },
  {
   "cell_type": "code",
   "execution_count": 32,
   "metadata": {},
   "outputs": [
    {
     "name": "stdout",
     "output_type": "stream",
     "text": [
      "1.7320508075688772\n"
     ]
    }
   ],
   "source": [
    "import math as m\n",
    "print(m.sqrt(3))"
   ]
  },
  {
   "cell_type": "code",
   "execution_count": 35,
   "metadata": {},
   "outputs": [
    {
     "name": "stdout",
     "output_type": "stream",
     "text": [
      "1 2 3\n"
     ]
    }
   ],
   "source": [
    "#*をつけることでリストを変数として関数に渡してもちゃんと各要素を引数が受け取れる\n",
    "def func(x, y, z):\n",
    "    return x, y, z\n",
    "x, y, z = func(*[1, 2, 3])\n",
    "print(x, y, z)"
   ]
  }
 ],
 "metadata": {
  "kernelspec": {
   "display_name": "Python 3 (ipykernel)",
   "language": "python",
   "name": "python3"
  },
  "language_info": {
   "codemirror_mode": {
    "name": "ipython",
    "version": 3
   },
   "file_extension": ".py",
   "mimetype": "text/x-python",
   "name": "python",
   "nbconvert_exporter": "python",
   "pygments_lexer": "ipython3",
   "version": "3.11.5"
  }
 },
 "nbformat": 4,
 "nbformat_minor": 4
}
