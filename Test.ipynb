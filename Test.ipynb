{
 "cells": [
  {
   "cell_type": "code",
   "execution_count": 1,
   "metadata": {},
   "outputs": [
    {
     "name": "stdout",
     "output_type": "stream",
     "text": [
      "(100, 3)\n",
      "(5, 8, 4) 6 9 5\n"
     ]
    }
   ],
   "source": [
    "import numpy as np\n",
    "rng = np.random.default_rng()\n",
    "r = rng.normal(size=(100,3))\n",
    "print(r.shape)\n",
    "H, edges = np.histogramdd(r, bins = (5, 8, 4))\n",
    "print(H.shape, edges[0].size, edges[1].size, edges[2].size)"
   ]
  },
  {
   "cell_type": "code",
   "execution_count": 7,
   "metadata": {},
   "outputs": [
    {
     "name": "stdout",
     "output_type": "stream",
     "text": [
      "ヒストグラム:  [[[  0.   0.   0.   0.]\n",
      "  [  0.   3.   8.   1.]\n",
      "  [  2.   7.   4.   1.]\n",
      "  [  0.   0.   0.   0.]]\n",
      "\n",
      " [[  0.   2.   4.   0.]\n",
      "  [  5.  54.  70.  10.]\n",
      "  [  1.  65.  83.   4.]\n",
      "  [  0.   5.   9.   0.]]\n",
      "\n",
      " [[  1.   3.  10.   1.]\n",
      "  [  7. 115. 113.  11.]\n",
      "  [ 10. 115. 125.  16.]\n",
      "  [  2.  11.  13.   2.]]\n",
      "\n",
      " [[  0.   2.   0.   1.]\n",
      "  [  4.  13.  35.   0.]\n",
      "  [  6.  22.  18.   2.]\n",
      "  [  0.   1.   3.   0.]]]\n",
      "ビンのエッジ:  [array([-3.45118485, -1.88877414, -0.32636344,  1.23604727,  2.79845798]), array([-3.68050457, -1.89524057, -0.10997658,  1.67528742,  3.46055142]), array([-3.4662436 , -1.73904509, -0.01184659,  1.71535192,  3.44255042])]\n",
      "(3, 5)\n"
     ]
    }
   ],
   "source": [
    "import numpy as np\n",
    "\n",
    "data = np.random.randn(1000, 3)\n",
    "\n",
    "hist, bin_edges = np.histogramdd(data, bins=[4, 4, 4])\n",
    "\n",
    "print(\"ヒストグラム: \", hist)\n",
    "print(\"ビンのエッジ: \", bin_edges)\n",
    "print(np.array(bin_edges).shape)\n"
   ]
  }
 ],
 "metadata": {
  "kernelspec": {
   "display_name": "Python 3 (ipykernel)",
   "language": "python",
   "name": "python3"
  },
  "language_info": {
   "codemirror_mode": {
    "name": "ipython",
    "version": 3
   },
   "file_extension": ".py",
   "mimetype": "text/x-python",
   "name": "python",
   "nbconvert_exporter": "python",
   "pygments_lexer": "ipython3",
   "version": "3.11.5"
  }
 },
 "nbformat": 4,
 "nbformat_minor": 4
}
