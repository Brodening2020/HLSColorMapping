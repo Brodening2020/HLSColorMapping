{
 "cells": [
  {
   "cell_type": "code",
   "execution_count": 1,
   "metadata": {},
   "outputs": [
    {
     "name": "stdout",
     "output_type": "stream",
     "text": [
      "(100, 3)\n",
      "(5, 8, 4) 6 9 5\n"
     ]
    }
   ],
   "source": [
    "import numpy as np\n",
    "rng = np.random.default_rng()\n",
    "r = rng.normal(size=(100,3))\n",
    "print(r.shape)\n",
    "H, edges = np.histogramdd(r, bins = (5, 8, 4))\n",
    "print(H.shape, edges[0].size, edges[1].size, edges[2].size)"
   ]
  },
  {
   "cell_type": "code",
   "execution_count": 1,
   "metadata": {},
   "outputs": [
    {
     "name": "stdout",
     "output_type": "stream",
     "text": [
      "(1000, 3)\n",
      "1000.0\n",
      "ヒストグラム:  [[[  0.   0.   0.   0.]\n",
      "  [  0.   6.   5.   1.]\n",
      "  [  0.   4.   6.   0.]\n",
      "  [  0.   0.   1.   0.]]\n",
      "\n",
      " [[  0.  13.  16.   2.]\n",
      "  [ 10.  62.  67.  11.]\n",
      "  [  7.  71.  66.  10.]\n",
      "  [  0.  12.  17.   1.]]\n",
      "\n",
      " [[  4.  14.  20.   2.]\n",
      "  [ 11. 106. 103.  19.]\n",
      "  [  9.  81. 105.  17.]\n",
      "  [  2.  14.  18.   1.]]\n",
      "\n",
      " [[  0.   4.   4.   2.]\n",
      "  [  3.  12.  11.   2.]\n",
      "  [  1.  27.  18.   1.]\n",
      "  [  0.   1.   0.   0.]]]\n",
      "ビンのエッジ:  [array([-3.38217602, -1.81032146, -0.23846691,  1.33338764,  2.90524219]), array([-2.81443301, -1.37591418,  0.06260464,  1.50112347,  2.93964229]), array([-3.15909075, -1.61792408, -0.0767574 ,  1.46440927,  3.00557595])]\n",
      "(3, 5)\n",
      "[-2.59624874 -1.02439419  0.54746036  2.11931491]\n"
     ]
    }
   ],
   "source": [
    "import numpy as np\n",
    "\n",
    "data = np.random.randn(1000, 3)\n",
    "print(data.shape)\n",
    "hist, bin_edges = np.histogramdd(data, bins=[4, 4, 4])\n",
    "print(np.sum(hist))\n",
    "print(\"ヒストグラム: \", hist)\n",
    "print(\"ビンのエッジ: \", bin_edges)\n",
    "b=np.array(bin_edges)\n",
    "print(b.shape)\n",
    "c=(b[0][1:] + b[0][:-1])/2\n",
    "print(c)"
   ]
  },
  {
   "cell_type": "code",
   "execution_count": 30,
   "metadata": {},
   "outputs": [
    {
     "name": "stdout",
     "output_type": "stream",
     "text": [
      "[2 3] [1 2]\n",
      "3\n",
      "[array([1.5, 2.5])]\n",
      "[[1 2 3]\n",
      " [4 5 6]]\n",
      "[[[1 2 3]\n",
      "  [4 5 6]]]\n",
      "<class 'numpy.ndarray'>\n"
     ]
    }
   ],
   "source": [
    "import numpy as np\n",
    "b=np.array([1, 2, 3])\n",
    "#b[1]とb[0]の平均、b[2]とb[1]の平均...と計算する\n",
    "c=[(b[1:] + b[:-1])/2]\n",
    "#b[-1]は末尾の要素を取るがb[:-1]は末尾から2番目までをとる\n",
    "print(b[1:], b[:-1])\n",
    "print(b[-1])\n",
    "print(c)\n",
    "\n",
    "#ndarrayにe[None]とすることで外側の[]を一つ増やせる\n",
    "e=np.array([[1, 2, 3], [4, 5, 6]])\n",
    "print(e)\n",
    "d=e[None].astype(np.uint8)\n",
    "print(d)\n",
    "print(type(d))"
   ]
  },
  {
   "cell_type": "code",
   "execution_count": 32,
   "metadata": {},
   "outputs": [
    {
     "name": "stdout",
     "output_type": "stream",
     "text": [
      "1.7320508075688772\n"
     ]
    }
   ],
   "source": [
    "import math as m\n",
    "print(m.sqrt(3))"
   ]
  },
  {
   "cell_type": "code",
   "execution_count": 35,
   "metadata": {},
   "outputs": [
    {
     "name": "stdout",
     "output_type": "stream",
     "text": [
      "1 2 3\n"
     ]
    }
   ],
   "source": [
    "#*をつけることでリストを変数として関数に渡してもちゃんと各要素を引数が受け取れる\n",
    "def func(x, y, z):\n",
    "    return x, y, z\n",
    "x, y, z = func(*[1, 2, 3])\n",
    "print(x, y, z)"
   ]
  },
  {
   "cell_type": "code",
   "execution_count": 36,
   "metadata": {},
   "outputs": [
    {
     "data": {
      "text/plain": [
       "1"
      ]
     },
     "execution_count": 36,
     "metadata": {},
     "output_type": "execute_result"
    }
   ],
   "source": [
    "min(1, 2)"
   ]
  },
  {
   "cell_type": "code",
   "execution_count": null,
   "metadata": {},
   "outputs": [
    {
     "name": "stdout",
     "output_type": "stream",
     "text": [
      "2\n",
      "30\n",
      "10\n",
      "[6 7]\n"
     ]
    }
   ],
   "source": [
    "thres=np.array([6, 7, 8, 9, 10])\n",
    "pointsize=np.array([10, 20, 30, 40, 50])\n",
    "count=7.5\n",
    "#np.where(a, 条件)は条件を満たすようなaの要素の番号を取得\n",
    "id=np.where(thres>=count)[0][0]\n",
    "print(id)\n",
    "print(pointsize[id])\n",
    "print(thres[-1])\n",
    "#:を使う場合は始まりが0ではなく1\n",
    "print(thres[:2])"
   ]
  },
  {
   "cell_type": "code",
   "execution_count": 20,
   "metadata": {},
   "outputs": [
    {
     "name": "stdout",
     "output_type": "stream",
     "text": [
      "[100 200 300]\n"
     ]
    }
   ],
   "source": [
    "a=[1, 2, 3]\n",
    "print(np.dot(100, a))"
   ]
  }
 ],
 "metadata": {
  "kernelspec": {
   "display_name": "pytorch_environment",
   "language": "python",
   "name": "python3"
  },
  "language_info": {
   "codemirror_mode": {
    "name": "ipython",
    "version": 3
   },
   "file_extension": ".py",
   "mimetype": "text/x-python",
   "name": "python",
   "nbconvert_exporter": "python",
   "pygments_lexer": "ipython3",
   "version": "3.11.5"
  }
 },
 "nbformat": 4,
 "nbformat_minor": 4
}
