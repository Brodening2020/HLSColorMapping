{
 "cells": [
  {
   "cell_type": "code",
   "execution_count": 1,
   "metadata": {},
   "outputs": [
    {
     "name": "stdout",
     "output_type": "stream",
     "text": [
      "(100, 3)\n",
      "(5, 8, 4) 6 9 5\n"
     ]
    }
   ],
   "source": [
    "import numpy as np\n",
    "rng = np.random.default_rng()\n",
    "r = rng.normal(size=(100,3))\n",
    "print(r.shape)\n",
    "H, edges = np.histogramdd(r, bins = (5, 8, 4))\n",
    "print(H.shape, edges[0].size, edges[1].size, edges[2].size)"
   ]
  },
  {
   "cell_type": "code",
   "execution_count": 6,
   "metadata": {},
   "outputs": [
    {
     "name": "stdout",
     "output_type": "stream",
     "text": [
      "ヒストグラム:  [[[  0.   2.   1.   1.]\n",
      "  [  3.   9.  14.   2.]\n",
      "  [  1.  25.  23.   6.]\n",
      "  [  0.   2.   3.   0.]]\n",
      "\n",
      " [[  1.   4.   5.   0.]\n",
      "  [  5.  58.  63.  10.]\n",
      "  [ 10. 119. 122.  29.]\n",
      "  [  4.  23.  17.   4.]]\n",
      "\n",
      " [[  0.   3.   3.   3.]\n",
      "  [  8.  56.  55.  12.]\n",
      "  [ 15.  71.  92.  20.]\n",
      "  [  4.  15.  27.   2.]]\n",
      "\n",
      " [[  0.   0.   0.   0.]\n",
      "  [  0.   5.  10.   0.]\n",
      "  [  1.  12.  10.   5.]\n",
      "  [  0.   2.   3.   0.]]]\n",
      "ビンのエッジ:  [array([-2.81336636, -1.33166439,  0.15003758,  1.63173955,  3.11344152]), array([-3.73527431, -2.07375062, -0.41222694,  1.24929674,  2.91082042]), array([-3.08465589, -1.60430755, -0.12395922,  1.35638912,  2.83673746])]\n"
     ]
    },
    {
     "ename": "AttributeError",
     "evalue": "'list' object has no attribute 'shape'",
     "output_type": "error",
     "traceback": [
      "\u001b[1;31m---------------------------------------------------------------------------\u001b[0m",
      "\u001b[1;31mAttributeError\u001b[0m                            Traceback (most recent call last)",
      "Cell \u001b[1;32mIn[6], line 9\u001b[0m\n\u001b[0;32m      7\u001b[0m \u001b[38;5;28mprint\u001b[39m(\u001b[38;5;124m\"\u001b[39m\u001b[38;5;124mヒストグラム: \u001b[39m\u001b[38;5;124m\"\u001b[39m, hist)\n\u001b[0;32m      8\u001b[0m \u001b[38;5;28mprint\u001b[39m(\u001b[38;5;124m\"\u001b[39m\u001b[38;5;124mビンのエッジ: \u001b[39m\u001b[38;5;124m\"\u001b[39m, bin_edges)\n\u001b[1;32m----> 9\u001b[0m \u001b[38;5;28mprint\u001b[39m(np\u001b[38;5;241m.\u001b[39marray(bin_edges\u001b[38;5;241m.\u001b[39mshape))\n",
      "\u001b[1;31mAttributeError\u001b[0m: 'list' object has no attribute 'shape'"
     ]
    }
   ],
   "source": [
    "import numpy as np\n",
    "\n",
    "data = np.random.randn(1000, 3)\n",
    "\n",
    "hist, bin_edges = np.histogramdd(data, bins=[4, 4, 4])\n",
    "\n",
    "print(\"ヒストグラム: \", hist)\n",
    "print(\"ビンのエッジ: \", bin_edges)\n",
    "print(np.array(bin_edges.shape))\n"
   ]
  }
 ],
 "metadata": {
  "kernelspec": {
   "display_name": "Python 3 (ipykernel)",
   "language": "python",
   "name": "python3"
  },
  "language_info": {
   "codemirror_mode": {
    "name": "ipython",
    "version": 3
   },
   "file_extension": ".py",
   "mimetype": "text/x-python",
   "name": "python",
   "nbconvert_exporter": "python",
   "pygments_lexer": "ipython3",
   "version": "3.11.5"
  }
 },
 "nbformat": 4,
 "nbformat_minor": 4
}
